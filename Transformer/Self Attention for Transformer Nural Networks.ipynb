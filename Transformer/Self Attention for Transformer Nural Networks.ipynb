{
 "cells": [
  {
   "cell_type": "code",
   "execution_count": 1,
   "id": "180e730e-c484-4271-aa08-80d6ed1b3be6",
   "metadata": {},
   "outputs": [],
   "source": [
    "import numpy as np\n",
    "import math\n",
    "\n",
    "L, d_k, d_v = 4, 8, 8\n",
    "q = np.random.randn(L, d_k)\n",
    "k = np.random.randn(L, d_k)\n",
    "v = np.random.randn(L, d_v)"
   ]
  },
  {
   "cell_type": "code",
   "execution_count": 2,
   "id": "1440c51d-8f91-4bb0-b322-0614423779e4",
   "metadata": {},
   "outputs": [
    {
     "name": "stdout",
     "output_type": "stream",
     "text": [
      "Q\n",
      " [[ 0.852226   -0.71171872  0.53089096  0.40084639  0.49603539 -0.35678672\n",
      "   0.22365277  0.49172783]\n",
      " [ 0.33404883  0.4606918  -0.94216657 -1.05591888  1.123324    0.28033847\n",
      "   0.37775621  0.99682997]\n",
      " [-0.66011769  1.04671902  1.63264508  1.90964659 -1.6512248   1.18788751\n",
      "   0.02165373  0.99070253]\n",
      " [-0.57703345 -1.43415514  1.05907658 -1.07064769  0.20220469  1.57024659\n",
      "  -0.19029823  0.0401484 ]]\n",
      "K\n",
      " [[ 0.10526603  0.20051261 -0.5214993   0.19327802  1.05996943 -0.38725877\n",
      "   1.0175988  -1.39186109]\n",
      " [-0.29628162  0.91106117 -0.18968601  0.65798033  0.10061668  1.52273672\n",
      "  -0.96709365  1.08485234]\n",
      " [ 1.81358826  0.23180914 -0.92950598 -0.0116655   1.72159405  0.29452381\n",
      "  -1.08987465 -0.15328583]\n",
      " [ 0.44674617 -1.24497462  0.27120307  1.05538752  0.95548548  0.68625328\n",
      "  -0.42239781 -1.51177171]]\n",
      "V\n",
      " [[ 0.72285241  0.10539189 -0.33320704 -0.01506525  2.232198    0.71390796\n",
      "   0.26893955  0.36988868]\n",
      " [ 0.59585095  2.09261223  0.01945972 -1.10371443 -0.90067813 -0.55410663\n",
      "  -0.64745324  0.93945829]\n",
      " [ 0.79125464  1.93940499  0.31983798  0.71832996 -0.16523325  0.4799455\n",
      "   0.65631903  0.10809378]\n",
      " [-1.18218466 -0.89769655  2.67576884 -0.3670441   0.73716373  0.08548183\n",
      "   0.58732254  0.02439932]]\n"
     ]
    }
   ],
   "source": [
    "print(\"Q\\n\", q)\n",
    "print(\"K\\n\", k)\n",
    "print(\"V\\n\", v)"
   ]
  },
  {
   "cell_type": "code",
   "execution_count": 3,
   "id": "f43db1ce-c4dc-4009-82c6-f52f7affd9d2",
   "metadata": {},
   "outputs": [
    {
     "data": {
      "text/plain": [
       "array([[-0.04525951, -0.91409563,  1.31222278,  1.22508588],\n",
       "       [ 0.49387279,  1.06068235,  3.05265432, -2.19507641],\n",
       "       [-3.90909131,  4.7925497 , -5.16271116, -1.40924029],\n",
       "       [-1.75083779,  0.59801281, -1.33904329,  1.97545272]])"
      ]
     },
     "execution_count": 3,
     "metadata": {},
     "output_type": "execute_result"
    }
   ],
   "source": [
    "np.matmul(q, k.T)"
   ]
  },
  {
   "cell_type": "code",
   "execution_count": 4,
   "id": "2b778803-ae4a-4f8f-b38f-a0ef47c9c231",
   "metadata": {},
   "outputs": [
    {
     "data": {
      "text/plain": [
       "(0.7973117972700422, 0.7762168562728577, 5.9542115400914355)"
      ]
     },
     "execution_count": 4,
     "metadata": {},
     "output_type": "execute_result"
    }
   ],
   "source": [
    "# Why we need sqrt(d_k) in denominator\n",
    "q.var(), k.var(), np.matmul(q, k.T).var()"
   ]
  },
  {
   "cell_type": "code",
   "execution_count": 5,
   "id": "236df084-0209-4560-85a3-559b29205cc7",
   "metadata": {},
   "outputs": [
    {
     "data": {
      "text/plain": [
       "(0.7973117972700422, 0.7762168562728577, 0.7442764425114294)"
      ]
     },
     "execution_count": 5,
     "metadata": {},
     "output_type": "execute_result"
    }
   ],
   "source": [
    "scaled = np.matmul(q, k.T) / math.sqrt(d_k)\n",
    "q.var(), k.var(), scaled.var()"
   ]
  },
  {
   "cell_type": "code",
   "execution_count": 6,
   "id": "c57ab78f-1297-4ebe-91d6-4c7cc440c19e",
   "metadata": {},
   "outputs": [
    {
     "data": {
      "text/plain": [
       "array([[-0.01600165, -0.32318161,  0.46394081,  0.43313327],\n",
       "       [ 0.1746104 ,  0.37500784,  1.07927629, -0.77607671],\n",
       "       [-1.38207249,  1.6944222 , -1.82529404, -0.49824168],\n",
       "       [-0.61901464,  0.21142946, -0.4734233 ,  0.69842801]])"
      ]
     },
     "execution_count": 6,
     "metadata": {},
     "output_type": "execute_result"
    }
   ],
   "source": [
    "scaled"
   ]
  },
  {
   "cell_type": "code",
   "execution_count": 7,
   "id": "0bc839b0-52a8-4e8d-b0de-6dca00647da2",
   "metadata": {},
   "outputs": [],
   "source": [
    "#Masking\n",
    "# * This is to ensure words don't get context from words generated in the future.\n",
    "# * Not required in the encoders but in the decoders"
   ]
  },
  {
   "cell_type": "code",
   "execution_count": 8,
   "id": "6eaea873-fe46-4151-8915-bc2b063547b1",
   "metadata": {},
   "outputs": [
    {
     "data": {
      "text/plain": [
       "array([[1., 0., 0., 0.],\n",
       "       [1., 1., 0., 0.],\n",
       "       [1., 1., 1., 0.],\n",
       "       [1., 1., 1., 1.]])"
      ]
     },
     "execution_count": 8,
     "metadata": {},
     "output_type": "execute_result"
    }
   ],
   "source": [
    "mask = np.tril(np.ones ( (L, L) ) )\n",
    "mask"
   ]
  },
  {
   "cell_type": "code",
   "execution_count": 9,
   "id": "39196e26-917c-4746-849a-d9e1f89225f8",
   "metadata": {},
   "outputs": [],
   "source": [
    "mask[mask == 0] = -np.infty\n",
    "mask[mask == 1] = 0"
   ]
  },
  {
   "cell_type": "code",
   "execution_count": 10,
   "id": "9ed59472-e5cc-4898-816b-e74499487484",
   "metadata": {},
   "outputs": [
    {
     "data": {
      "text/plain": [
       "array([[  0., -inf, -inf, -inf],\n",
       "       [  0.,   0., -inf, -inf],\n",
       "       [  0.,   0.,   0., -inf],\n",
       "       [  0.,   0.,   0.,   0.]])"
      ]
     },
     "execution_count": 10,
     "metadata": {},
     "output_type": "execute_result"
    }
   ],
   "source": [
    "mask"
   ]
  },
  {
   "cell_type": "code",
   "execution_count": 11,
   "id": "f90bb729-aefd-471a-b847-3c0794829295",
   "metadata": {},
   "outputs": [
    {
     "data": {
      "text/plain": [
       "array([[-0.01600165,        -inf,        -inf,        -inf],\n",
       "       [ 0.1746104 ,  0.37500784,        -inf,        -inf],\n",
       "       [-1.38207249,  1.6944222 , -1.82529404,        -inf],\n",
       "       [-0.61901464,  0.21142946, -0.4734233 ,  0.69842801]])"
      ]
     },
     "execution_count": 11,
     "metadata": {},
     "output_type": "execute_result"
    }
   ],
   "source": [
    "scaled + mask"
   ]
  },
  {
   "cell_type": "code",
   "execution_count": 12,
   "id": "fd1060d1-044c-4c17-8725-89907788b5ae",
   "metadata": {},
   "outputs": [],
   "source": [
    "# Softmax\n",
    "def softmax(x):\n",
    "    return (np.exp(x).T / np.sum(np.exp(x), axis=-1)).T"
   ]
  },
  {
   "cell_type": "code",
   "execution_count": 13,
   "id": "8bfc8ac4-e111-4bec-b4b3-2d47627760c0",
   "metadata": {},
   "outputs": [],
   "source": [
    "attention = softmax(scaled + mask)"
   ]
  },
  {
   "cell_type": "code",
   "execution_count": 14,
   "id": "cec841a5-5112-4162-a734-56934af13fcb",
   "metadata": {},
   "outputs": [
    {
     "data": {
      "text/plain": [
       "array([[1.        , 0.        , 0.        , 0.        ],\n",
       "       [0.45006763, 0.54993237, 0.        , 0.        ],\n",
       "       [0.04287387, 0.92960261, 0.02752352, 0.        ],\n",
       "       [0.12217589, 0.28031271, 0.14132371, 0.4561877 ]])"
      ]
     },
     "execution_count": 14,
     "metadata": {},
     "output_type": "execute_result"
    }
   ],
   "source": [
    "attention"
   ]
  },
  {
   "cell_type": "code",
   "execution_count": 15,
   "id": "3576af6e-0993-496f-9a77-f8d71ec807bf",
   "metadata": {},
   "outputs": [
    {
     "data": {
      "text/plain": [
       "array([[ 0.72285241,  0.10539189, -0.33320704, -0.01506525,  2.232198  ,\n",
       "         0.71390796,  0.26893955,  0.36988868],\n",
       "       [ 0.6530102 ,  1.19822868, -0.13926417, -0.61374867,  0.50932801,\n",
       "         0.01658569, -0.23501451,  0.68311345],\n",
       "       [ 0.60667419,  2.0031956 ,  0.012607  , -1.00689075, -0.74611758,\n",
       "        -0.47128119, -0.57227953,  0.89215656],\n",
       "       [-0.17213533,  0.46402792,  1.23059846, -0.37714974,  0.33318289,\n",
       "         0.03872264,  0.21205131,  0.33494046]])"
      ]
     },
     "execution_count": 15,
     "metadata": {},
     "output_type": "execute_result"
    }
   ],
   "source": [
    "new_v = np.matmul(attention, v)\n",
    "new_v"
   ]
  },
  {
   "cell_type": "code",
   "execution_count": 16,
   "id": "e2f96c94-ae43-477e-b27a-c4699da56011",
   "metadata": {},
   "outputs": [
    {
     "data": {
      "text/plain": [
       "array([[ 0.72285241,  0.10539189, -0.33320704, -0.01506525,  2.232198  ,\n",
       "         0.71390796,  0.26893955,  0.36988868],\n",
       "       [ 0.59585095,  2.09261223,  0.01945972, -1.10371443, -0.90067813,\n",
       "        -0.55410663, -0.64745324,  0.93945829],\n",
       "       [ 0.79125464,  1.93940499,  0.31983798,  0.71832996, -0.16523325,\n",
       "         0.4799455 ,  0.65631903,  0.10809378],\n",
       "       [-1.18218466, -0.89769655,  2.67576884, -0.3670441 ,  0.73716373,\n",
       "         0.08548183,  0.58732254,  0.02439932]])"
      ]
     },
     "execution_count": 16,
     "metadata": {},
     "output_type": "execute_result"
    }
   ],
   "source": [
    "v"
   ]
  },
  {
   "cell_type": "code",
   "execution_count": 17,
   "id": "377d692c-94b7-4414-99ae-ce5f2ecca93c",
   "metadata": {},
   "outputs": [],
   "source": [
    "# Softmax\n",
    "def softmax(x):\n",
    "    return (np.exp(x).T / np.sum(np.exp(x), axis=-1)).T\n",
    "\n",
    "def scaled_dot_product_attention(q, k, v, mask=None):\n",
    "    d_k = q.shape[-1]\n",
    "    scaled = np.matmul(q, k.T) / math.sqrt(d_k)\n",
    "    if mask is not None:\n",
    "        scaled = scaled + mask\n",
    "    attention = softmax(scaled)\n",
    "    out = np.matmul(attention, v)\n",
    "    return out, attention"
   ]
  },
  {
   "cell_type": "code",
   "execution_count": 18,
   "id": "3f66df4f-9b2d-427b-a0e8-2dffcc821a37",
   "metadata": {},
   "outputs": [
    {
     "name": "stdout",
     "output_type": "stream",
     "text": [
      "Q\n",
      " [[ 0.852226   -0.71171872  0.53089096  0.40084639  0.49603539 -0.35678672\n",
      "   0.22365277  0.49172783]\n",
      " [ 0.33404883  0.4606918  -0.94216657 -1.05591888  1.123324    0.28033847\n",
      "   0.37775621  0.99682997]\n",
      " [-0.66011769  1.04671902  1.63264508  1.90964659 -1.6512248   1.18788751\n",
      "   0.02165373  0.99070253]\n",
      " [-0.57703345 -1.43415514  1.05907658 -1.07064769  0.20220469  1.57024659\n",
      "  -0.19029823  0.0401484 ]]\n",
      "K\n",
      " [[ 0.10526603  0.20051261 -0.5214993   0.19327802  1.05996943 -0.38725877\n",
      "   1.0175988  -1.39186109]\n",
      " [-0.29628162  0.91106117 -0.18968601  0.65798033  0.10061668  1.52273672\n",
      "  -0.96709365  1.08485234]\n",
      " [ 1.81358826  0.23180914 -0.92950598 -0.0116655   1.72159405  0.29452381\n",
      "  -1.08987465 -0.15328583]\n",
      " [ 0.44674617 -1.24497462  0.27120307  1.05538752  0.95548548  0.68625328\n",
      "  -0.42239781 -1.51177171]]\n",
      "V\n",
      " [[ 0.72285241  0.10539189 -0.33320704 -0.01506525  2.232198    0.71390796\n",
      "   0.26893955  0.36988868]\n",
      " [ 0.59585095  2.09261223  0.01945972 -1.10371443 -0.90067813 -0.55410663\n",
      "  -0.64745324  0.93945829]\n",
      " [ 0.79125464  1.93940499  0.31983798  0.71832996 -0.16523325  0.4799455\n",
      "   0.65631903  0.10809378]\n",
      " [-1.18218466 -0.89769655  2.67576884 -0.3670441   0.73716373  0.08548183\n",
      "   0.58732254  0.02439932]]\n",
      "New V\n",
      " [[ 0.72285241  0.10539189 -0.33320704 -0.01506525  2.232198    0.71390796\n",
      "   0.26893955  0.36988868]\n",
      " [ 0.6530102   1.19822868 -0.13926417 -0.61374867  0.50932801  0.01658569\n",
      "  -0.23501451  0.68311345]\n",
      " [ 0.60667419  2.0031956   0.012607   -1.00689075 -0.74611758 -0.47128119\n",
      "  -0.57227953  0.89215656]\n",
      " [-0.17213533  0.46402792  1.23059846 -0.37714974  0.33318289  0.03872264\n",
      "   0.21205131  0.33494046]]\n",
      "Attention\n",
      " [[1.         0.         0.         0.        ]\n",
      " [0.45006763 0.54993237 0.         0.        ]\n",
      " [0.04287387 0.92960261 0.02752352 0.        ]\n",
      " [0.12217589 0.28031271 0.14132371 0.4561877 ]]\n"
     ]
    }
   ],
   "source": [
    "values, attention = scaled_dot_product_attention(q, k, v, mask=mask)\n",
    "print(\"Q\\n\", q)\n",
    "print(\"K\\n\", k)\n",
    "print(\"V\\n\", v)\n",
    "print(\"New V\\n\", values)\n",
    "print(\"Attention\\n\", attention)"
   ]
  },
  {
   "cell_type": "code",
   "execution_count": null,
   "id": "306e7bad-aade-4c5c-940b-c785e7039ff2",
   "metadata": {},
   "outputs": [],
   "source": []
  }
 ],
 "metadata": {
  "kernelspec": {
   "display_name": "Python 3 (ipykernel)",
   "language": "python",
   "name": "python3"
  },
  "language_info": {
   "codemirror_mode": {
    "name": "ipython",
    "version": 3
   },
   "file_extension": ".py",
   "mimetype": "text/x-python",
   "name": "python",
   "nbconvert_exporter": "python",
   "pygments_lexer": "ipython3",
   "version": "3.11.5"
  }
 },
 "nbformat": 4,
 "nbformat_minor": 5
}
