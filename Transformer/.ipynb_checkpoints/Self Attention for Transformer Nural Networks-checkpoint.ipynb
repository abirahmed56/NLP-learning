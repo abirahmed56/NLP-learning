{
 "cells": [
  {
   "cell_type": "code",
   "execution_count": 1,
   "id": "180e730e-c484-4271-aa08-80d6ed1b3be6",
   "metadata": {},
   "outputs": [],
   "source": [
    "import numpy as np\n",
    "import math\n",
    "\n",
    "L, d_k, d_v = 4, 8, 8\n",
    "q = np.random.randn(L, d_k)\n",
    "k = np.random.randn(L, d_k)\n",
    "v = np.random.randn(L, d_v)"
   ]
  },
  {
   "cell_type": "code",
   "execution_count": 3,
   "id": "1440c51d-8f91-4bb0-b322-0614423779e4",
   "metadata": {},
   "outputs": [
    {
     "name": "stdout",
     "output_type": "stream",
     "text": [
      "Q\n",
      " [[-1.4553675   0.52822167 -0.08908464 -0.41361999  0.54665672  0.21945883\n",
      "  -1.09894967  0.80929701]\n",
      " [-0.51415209  0.90760674 -1.4335523  -2.04511947 -0.61882516 -0.63503193\n",
      "   1.87869091 -0.52581161]\n",
      " [ 1.37506346  1.03859363  0.80758575 -2.25798031  0.45322613  1.61573788\n",
      "   0.21857565  0.55213646]\n",
      " [ 0.46949285  0.11316391 -0.85712567 -1.18369103  0.02316273  0.5767991\n",
      "  -2.1741154  -0.35041046]]\n",
      "K\n",
      " [[-0.28445272 -1.07196609 -1.93513569 -0.23985278  1.15788102 -0.1993426\n",
      "   1.12183335  0.57522366]\n",
      " [ 2.57037699 -0.04824941 -1.10011083  3.09217572 -0.51949531 -2.15972381\n",
      "   0.97396318  3.81101708]\n",
      " [ 1.37036296 -0.40076792  1.11391891  0.58940167  0.7881421   0.52416013\n",
      "  -1.52193945  1.67225601]\n",
      " [-0.82578705  0.60693118 -0.78561119  1.27544268 -1.98608909  1.2081519\n",
      "   1.1276339   0.94256832]]\n",
      "V\n",
      " [[-0.22641115 -0.76829269  0.33259227 -0.34406533  0.01781909  0.38991619\n",
      "  -1.07700178 -0.36599018]\n",
      " [-0.18291884  0.27608871  0.8284444   0.18075344  0.08854557 -1.38488221\n",
      "   0.18901486  0.82997888]\n",
      " [-1.10554644 -1.24091193  1.59960849 -1.07709684  1.5862116   1.270223\n",
      "   0.51230906 -0.25698706]\n",
      " [ 0.88729978 -1.37420489 -0.24843958  0.35034689  0.41631364  0.15921114\n",
      "  -0.65466042 -0.84437127]]\n"
     ]
    }
   ],
   "source": [
    "print(\"Q\\n\", q)\n",
    "print(\"K\\n\", k)\n",
    "print(\"V\\n\", v)"
   ]
  },
  {
   "cell_type": "code",
   "execution_count": 4,
   "id": "f43db1ce-c4dc-4009-82c6-f52f7affd9d2",
   "metadata": {},
   "outputs": [
    {
     "data": {
      "text/plain": [
       "array([[-0.05874937, -3.69136011,  1.02266399, -0.23210939],\n",
       "       [ 3.65315597, -4.59328945, -8.4296985 ,  1.57790612],\n",
       "       [-1.76017889, -5.79409611,  2.83159528, -2.20071861],\n",
       "       [-1.04101081, -6.22662217,  1.9890718 , -3.28641529]])"
      ]
     },
     "execution_count": 4,
     "metadata": {},
     "output_type": "execute_result"
    }
   ],
   "source": [
    "np.matmul(q, k.T)"
   ]
  },
  {
   "cell_type": "code",
   "execution_count": 5,
   "id": "2b778803-ae4a-4f8f-b38f-a0ef47c9c231",
   "metadata": {},
   "outputs": [
    {
     "data": {
      "text/plain": [
       "(1.1174121613390589, 1.9434908929369135, 11.489498438636566)"
      ]
     },
     "execution_count": 5,
     "metadata": {},
     "output_type": "execute_result"
    }
   ],
   "source": [
    "# Why we need sqrt(d_k) in denominator\n",
    "q.var(), k.var(), np.matmul(q, k.T).var()"
   ]
  },
  {
   "cell_type": "code",
   "execution_count": 8,
   "id": "236df084-0209-4560-85a3-559b29205cc7",
   "metadata": {},
   "outputs": [
    {
     "data": {
      "text/plain": [
       "(1.1174121613390589, 1.9434908929369135, 1.4361873048295708)"
      ]
     },
     "execution_count": 8,
     "metadata": {},
     "output_type": "execute_result"
    }
   ],
   "source": [
    "scaled = np.matmul(q, k.T) / math.sqrt(d_k)\n",
    "q.var(), k.var(), scaled.var()"
   ]
  },
  {
   "cell_type": "code",
   "execution_count": 9,
   "id": "c57ab78f-1297-4ebe-91d6-4c7cc440c19e",
   "metadata": {},
   "outputs": [
    {
     "data": {
      "text/plain": [
       "array([[-0.02077104, -1.30509288,  0.36156632, -0.08206306],\n",
       "       [ 1.29158568, -1.62397306, -2.98034848,  0.55787406],\n",
       "       [-0.62231722, -2.04852233,  1.00112011, -0.77807153],\n",
       "       [-0.3680529 , -2.20144338,  0.70324308, -1.16192327]])"
      ]
     },
     "execution_count": 9,
     "metadata": {},
     "output_type": "execute_result"
    }
   ],
   "source": [
    "scaled"
   ]
  },
  {
   "cell_type": "code",
   "execution_count": 14,
   "id": "0bc839b0-52a8-4e8d-b0de-6dca00647da2",
   "metadata": {},
   "outputs": [],
   "source": [
    "#Masking\n",
    "# * This is to ensure words don't get context from words generated in the future.\n",
    "# * Not required in the encoders but in the decoders"
   ]
  },
  {
   "cell_type": "code",
   "execution_count": 15,
   "id": "6eaea873-fe46-4151-8915-bc2b063547b1",
   "metadata": {},
   "outputs": [
    {
     "data": {
      "text/plain": [
       "array([[1., 0., 0., 0.],\n",
       "       [1., 1., 0., 0.],\n",
       "       [1., 1., 1., 0.],\n",
       "       [1., 1., 1., 1.]])"
      ]
     },
     "execution_count": 15,
     "metadata": {},
     "output_type": "execute_result"
    }
   ],
   "source": [
    "mask = np.tril(np.ones ( (L, L) ) )\n",
    "mask"
   ]
  },
  {
   "cell_type": "code",
   "execution_count": 16,
   "id": "39196e26-917c-4746-849a-d9e1f89225f8",
   "metadata": {},
   "outputs": [],
   "source": [
    "mask[mask == 0] = -np.infty\n",
    "mask[mask == 1] = 0"
   ]
  },
  {
   "cell_type": "code",
   "execution_count": 17,
   "id": "9ed59472-e5cc-4898-816b-e74499487484",
   "metadata": {},
   "outputs": [
    {
     "data": {
      "text/plain": [
       "array([[  0., -inf, -inf, -inf],\n",
       "       [  0.,   0., -inf, -inf],\n",
       "       [  0.,   0.,   0., -inf],\n",
       "       [  0.,   0.,   0.,   0.]])"
      ]
     },
     "execution_count": 17,
     "metadata": {},
     "output_type": "execute_result"
    }
   ],
   "source": [
    "mask"
   ]
  },
  {
   "cell_type": "code",
   "execution_count": 18,
   "id": "f90bb729-aefd-471a-b847-3c0794829295",
   "metadata": {},
   "outputs": [
    {
     "data": {
      "text/plain": [
       "array([[-0.02077104,        -inf,        -inf,        -inf],\n",
       "       [ 1.29158568, -1.62397306,        -inf,        -inf],\n",
       "       [-0.62231722, -2.04852233,  1.00112011,        -inf],\n",
       "       [-0.3680529 , -2.20144338,  0.70324308, -1.16192327]])"
      ]
     },
     "execution_count": 18,
     "metadata": {},
     "output_type": "execute_result"
    }
   ],
   "source": [
    "scaled + mask"
   ]
  },
  {
   "cell_type": "code",
   "execution_count": 21,
   "id": "fd1060d1-044c-4c17-8725-89907788b5ae",
   "metadata": {},
   "outputs": [],
   "source": [
    "# Softmax\n",
    "def softmax(x):\n",
    "    return (np.exp(x).T / np.sum(np.exp(x), axis=-1)).T"
   ]
  },
  {
   "cell_type": "code",
   "execution_count": 22,
   "id": "8bfc8ac4-e111-4bec-b4b3-2d47627760c0",
   "metadata": {},
   "outputs": [],
   "source": [
    "attention = softmax(scaled + mask)"
   ]
  },
  {
   "cell_type": "code",
   "execution_count": 23,
   "id": "cec841a5-5112-4162-a734-56934af13fcb",
   "metadata": {},
   "outputs": [
    {
     "data": {
      "text/plain": [
       "array([[1.        , 0.        , 0.        , 0.        ],\n",
       "       [0.94861022, 0.05138978, 0.        , 0.        ],\n",
       "       [0.15846082, 0.03806527, 0.80347391, 0.        ],\n",
       "       [0.22069587, 0.03528278, 0.64424659, 0.09977476]])"
      ]
     },
     "execution_count": 23,
     "metadata": {},
     "output_type": "execute_result"
    }
   ],
   "source": [
    "attention"
   ]
  },
  {
   "cell_type": "code",
   "execution_count": 24,
   "id": "3576af6e-0993-496f-9a77-f8d71ec807bf",
   "metadata": {},
   "outputs": [
    {
     "data": {
      "text/plain": [
       "array([[-0.22641115, -0.76829269,  0.33259227, -0.34406533,  0.01781909,\n",
       "         0.38991619, -1.07700178, -0.36599018],\n",
       "       [-0.22417609, -0.71462216,  0.358074  , -0.31709501,  0.02145371,\n",
       "         0.2987097 , -1.01194147, -0.3045296 ],\n",
       "       [-0.93111787, -1.10827526,  1.36948149, -0.91305965,  1.28067377,\n",
       "         1.02966156,  0.24815927, -0.23288413],\n",
       "       [-0.6801363 , -1.09638209,  1.10838589, -0.72851651,  1.07050575,\n",
       "         0.87141249,  0.03371391, -0.30129853]])"
      ]
     },
     "execution_count": 24,
     "metadata": {},
     "output_type": "execute_result"
    }
   ],
   "source": [
    "new_v = np.matmul(attention, v)\n",
    "new_v"
   ]
  },
  {
   "cell_type": "code",
   "execution_count": 25,
   "id": "e2f96c94-ae43-477e-b27a-c4699da56011",
   "metadata": {},
   "outputs": [
    {
     "data": {
      "text/plain": [
       "array([[-0.22641115, -0.76829269,  0.33259227, -0.34406533,  0.01781909,\n",
       "         0.38991619, -1.07700178, -0.36599018],\n",
       "       [-0.18291884,  0.27608871,  0.8284444 ,  0.18075344,  0.08854557,\n",
       "        -1.38488221,  0.18901486,  0.82997888],\n",
       "       [-1.10554644, -1.24091193,  1.59960849, -1.07709684,  1.5862116 ,\n",
       "         1.270223  ,  0.51230906, -0.25698706],\n",
       "       [ 0.88729978, -1.37420489, -0.24843958,  0.35034689,  0.41631364,\n",
       "         0.15921114, -0.65466042, -0.84437127]])"
      ]
     },
     "execution_count": 25,
     "metadata": {},
     "output_type": "execute_result"
    }
   ],
   "source": [
    "v"
   ]
  },
  {
   "cell_type": "code",
   "execution_count": 26,
   "id": "377d692c-94b7-4414-99ae-ce5f2ecca93c",
   "metadata": {},
   "outputs": [],
   "source": [
    "# Softmax\n",
    "def softmax(x):\n",
    "    return (np.exp(x).T / np.sum(np.exp(x), axis=-1)).T\n",
    "\n",
    "def scaled_dot_product_attention(q, k, v, mask=None):\n",
    "    d_k = q.shape[-1]\n",
    "    scaled = np.matmul(q, k.T) / math.sqrt(d_k)\n",
    "    if mask is not None:\n",
    "        scaled = scaled + mask\n",
    "    attention = softmax(scaled)\n",
    "    out = np.matmul(attention, v)\n",
    "    return out, attention"
   ]
  },
  {
   "cell_type": "code",
   "execution_count": 28,
   "id": "3f66df4f-9b2d-427b-a0e8-2dffcc821a37",
   "metadata": {},
   "outputs": [
    {
     "name": "stdout",
     "output_type": "stream",
     "text": [
      "Q\n",
      " [[-1.4553675   0.52822167 -0.08908464 -0.41361999  0.54665672  0.21945883\n",
      "  -1.09894967  0.80929701]\n",
      " [-0.51415209  0.90760674 -1.4335523  -2.04511947 -0.61882516 -0.63503193\n",
      "   1.87869091 -0.52581161]\n",
      " [ 1.37506346  1.03859363  0.80758575 -2.25798031  0.45322613  1.61573788\n",
      "   0.21857565  0.55213646]\n",
      " [ 0.46949285  0.11316391 -0.85712567 -1.18369103  0.02316273  0.5767991\n",
      "  -2.1741154  -0.35041046]]\n",
      "K\n",
      " [[-0.28445272 -1.07196609 -1.93513569 -0.23985278  1.15788102 -0.1993426\n",
      "   1.12183335  0.57522366]\n",
      " [ 2.57037699 -0.04824941 -1.10011083  3.09217572 -0.51949531 -2.15972381\n",
      "   0.97396318  3.81101708]\n",
      " [ 1.37036296 -0.40076792  1.11391891  0.58940167  0.7881421   0.52416013\n",
      "  -1.52193945  1.67225601]\n",
      " [-0.82578705  0.60693118 -0.78561119  1.27544268 -1.98608909  1.2081519\n",
      "   1.1276339   0.94256832]]\n",
      "V\n",
      " [[-0.22641115 -0.76829269  0.33259227 -0.34406533  0.01781909  0.38991619\n",
      "  -1.07700178 -0.36599018]\n",
      " [-0.18291884  0.27608871  0.8284444   0.18075344  0.08854557 -1.38488221\n",
      "   0.18901486  0.82997888]\n",
      " [-1.10554644 -1.24091193  1.59960849 -1.07709684  1.5862116   1.270223\n",
      "   0.51230906 -0.25698706]\n",
      " [ 0.88729978 -1.37420489 -0.24843958  0.35034689  0.41631364  0.15921114\n",
      "  -0.65466042 -0.84437127]]\n",
      "New V\n",
      " [[-0.22641115 -0.76829269  0.33259227 -0.34406533  0.01781909  0.38991619\n",
      "  -1.07700178 -0.36599018]\n",
      " [-0.22417609 -0.71462216  0.358074   -0.31709501  0.02145371  0.2987097\n",
      "  -1.01194147 -0.3045296 ]\n",
      " [-0.93111787 -1.10827526  1.36948149 -0.91305965  1.28067377  1.02966156\n",
      "   0.24815927 -0.23288413]\n",
      " [-0.6801363  -1.09638209  1.10838589 -0.72851651  1.07050575  0.87141249\n",
      "   0.03371391 -0.30129853]]\n",
      "Attention\n",
      " [[1.         0.         0.         0.        ]\n",
      " [0.94861022 0.05138978 0.         0.        ]\n",
      " [0.15846082 0.03806527 0.80347391 0.        ]\n",
      " [0.22069587 0.03528278 0.64424659 0.09977476]]\n"
     ]
    }
   ],
   "source": [
    "values, attention = scaled_dot_product_attention(q, k, v, mask=mask)\n",
    "print(\"Q\\n\", q)\n",
    "print(\"K\\n\", k)\n",
    "print(\"V\\n\", v)\n",
    "print(\"New V\\n\", values)\n",
    "print(\"Attention\\n\", attention)"
   ]
  },
  {
   "cell_type": "code",
   "execution_count": null,
   "id": "306e7bad-aade-4c5c-940b-c785e7039ff2",
   "metadata": {},
   "outputs": [],
   "source": []
  }
 ],
 "metadata": {
  "kernelspec": {
   "display_name": "Python 3 (ipykernel)",
   "language": "python",
   "name": "python3"
  },
  "language_info": {
   "codemirror_mode": {
    "name": "ipython",
    "version": 3
   },
   "file_extension": ".py",
   "mimetype": "text/x-python",
   "name": "python",
   "nbconvert_exporter": "python",
   "pygments_lexer": "ipython3",
   "version": "3.11.5"
  }
 },
 "nbformat": 4,
 "nbformat_minor": 5
}
