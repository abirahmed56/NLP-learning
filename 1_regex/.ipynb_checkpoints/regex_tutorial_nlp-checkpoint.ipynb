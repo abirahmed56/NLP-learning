{
 "cells": [
  {
   "cell_type": "code",
   "execution_count": 1,
   "id": "348f3b83-c0bf-4b2c-83d3-83f568391509",
   "metadata": {},
   "outputs": [],
   "source": [
    "import re"
   ]
  },
  {
   "cell_type": "code",
   "execution_count": 7,
   "id": "e23fed55-4ee3-41dc-8b33-a6dfb4d115ca",
   "metadata": {},
   "outputs": [],
   "source": [
    "chat1 = \"abir: you ask lot of questions  0323456789, abc@gmail.com\"\n",
    "chat2 = \"abir: yes phn: (123)-123-2332, asb@gmil.com\"\n",
    "chat3 = 'abir: yes here it is : 123456789, abirahmedsohan6@gmail.com'"
   ]
  },
  {
   "cell_type": "code",
   "execution_count": 10,
   "id": "cf8d5296-0ea3-4946-9221-4e0c023db4eb",
   "metadata": {},
   "outputs": [
    {
     "data": {
      "text/plain": [
       "['abc@gmail.com']"
      ]
     },
     "execution_count": 10,
     "metadata": {},
     "output_type": "execute_result"
    }
   ],
   "source": [
    "pattern = '\\d{10}|\\(\\d{3}\\)-\\d{3}-\\d{4}'\n",
    "pattern2='[a-z0-9A-Z_]*@[a-z0-9A-Z_]*\\.[a-zA-Z]*'\n",
    "matches = re.findall(pattern2, chat1)\n",
    "matches"
   ]
  },
  {
   "cell_type": "code",
   "execution_count": null,
   "id": "9b891be8-93a5-4e5a-a2bd-70ddc8730d78",
   "metadata": {},
   "outputs": [],
   "source": []
  },
  {
   "cell_type": "code",
   "execution_count": null,
   "id": "96c881a6-df00-47c8-ac9c-5c8cd615d413",
   "metadata": {},
   "outputs": [],
   "source": []
  }
 ],
 "metadata": {
  "kernelspec": {
   "display_name": "Python 3 (ipykernel)",
   "language": "python",
   "name": "python3"
  },
  "language_info": {
   "codemirror_mode": {
    "name": "ipython",
    "version": 3
   },
   "file_extension": ".py",
   "mimetype": "text/x-python",
   "name": "python",
   "nbconvert_exporter": "python",
   "pygments_lexer": "ipython3",
   "version": "3.8.5"
  }
 },
 "nbformat": 4,
 "nbformat_minor": 5
}
